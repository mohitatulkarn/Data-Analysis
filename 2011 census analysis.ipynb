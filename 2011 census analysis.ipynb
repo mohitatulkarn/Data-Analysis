{
 "cells": [
  {
   "cell_type": "markdown",
   "id": "210c245e",
   "metadata": {},
   "source": [
    "# DATA ANALYSIS OF BEST SELLING BOOK"
   ]
  },
  {
   "cell_type": "code",
   "execution_count": 218,
   "id": "fa2ff8f1",
   "metadata": {},
   "outputs": [],
   "source": [
    "#LODING THE PACKAGES AND LIBRARIES\n",
    "import pandas as pd\n",
    "import numpy as np\n",
    "import matplotlib.pyplot as plt\n",
    "import seaborn as sns"
   ]
  },
  {
   "cell_type": "code",
   "execution_count": 219,
   "id": "479d068b",
   "metadata": {},
   "outputs": [],
   "source": [
    "df= pd.read_csv(\"C:\\\\Users\\\\AtulKumar\\\\Downloads\\\\census2011.csv\")"
   ]
  },
  {
   "cell_type": "code",
   "execution_count": 220,
   "id": "d593e7ae",
   "metadata": {},
   "outputs": [
    {
     "data": {
      "text/html": [
       "<div>\n",
       "<style scoped>\n",
       "    .dataframe tbody tr th:only-of-type {\n",
       "        vertical-align: middle;\n",
       "    }\n",
       "\n",
       "    .dataframe tbody tr th {\n",
       "        vertical-align: top;\n",
       "    }\n",
       "\n",
       "    .dataframe thead th {\n",
       "        text-align: right;\n",
       "    }\n",
       "</style>\n",
       "<table border=\"1\" class=\"dataframe\">\n",
       "  <thead>\n",
       "    <tr style=\"text-align: right;\">\n",
       "      <th></th>\n",
       "      <th>Ranking</th>\n",
       "      <th>District</th>\n",
       "      <th>State</th>\n",
       "      <th>Population</th>\n",
       "      <th>Growth</th>\n",
       "      <th>Sex-Ratio</th>\n",
       "      <th>Literacy</th>\n",
       "    </tr>\n",
       "  </thead>\n",
       "  <tbody>\n",
       "    <tr>\n",
       "      <th>0</th>\n",
       "      <td>1</td>\n",
       "      <td>Thane</td>\n",
       "      <td>Maharashtra</td>\n",
       "      <td>11,060,148</td>\n",
       "      <td>36.01 %</td>\n",
       "      <td>886</td>\n",
       "      <td>84.53</td>\n",
       "    </tr>\n",
       "    <tr>\n",
       "      <th>1</th>\n",
       "      <td>2</td>\n",
       "      <td>North Twenty Four Parganas</td>\n",
       "      <td>West Bengal</td>\n",
       "      <td>10,009,781</td>\n",
       "      <td>12.04 %</td>\n",
       "      <td>955</td>\n",
       "      <td>84.06</td>\n",
       "    </tr>\n",
       "    <tr>\n",
       "      <th>2</th>\n",
       "      <td>3</td>\n",
       "      <td>Bangalore</td>\n",
       "      <td>Karnataka</td>\n",
       "      <td>9,621,551</td>\n",
       "      <td>47.18 %</td>\n",
       "      <td>916</td>\n",
       "      <td>87.67</td>\n",
       "    </tr>\n",
       "    <tr>\n",
       "      <th>3</th>\n",
       "      <td>4</td>\n",
       "      <td>Pune</td>\n",
       "      <td>Maharashtra</td>\n",
       "      <td>9,429,408</td>\n",
       "      <td>30.37 %</td>\n",
       "      <td>915</td>\n",
       "      <td>86.15</td>\n",
       "    </tr>\n",
       "    <tr>\n",
       "      <th>4</th>\n",
       "      <td>5</td>\n",
       "      <td>Mumbai Suburban</td>\n",
       "      <td>Maharashtra</td>\n",
       "      <td>9,356,962</td>\n",
       "      <td>8.29 %</td>\n",
       "      <td>860</td>\n",
       "      <td>89.91</td>\n",
       "    </tr>\n",
       "  </tbody>\n",
       "</table>\n",
       "</div>"
      ],
      "text/plain": [
       "   Ranking                    District        State  Population   Growth  \\\n",
       "0        1                       Thane  Maharashtra  11,060,148  36.01 %   \n",
       "1        2  North Twenty Four Parganas  West Bengal  10,009,781  12.04 %   \n",
       "2        3                   Bangalore    Karnataka   9,621,551  47.18 %   \n",
       "3        4                        Pune  Maharashtra   9,429,408  30.37 %   \n",
       "4        5             Mumbai Suburban  Maharashtra   9,356,962   8.29 %   \n",
       "\n",
       "   Sex-Ratio  Literacy  \n",
       "0        886     84.53  \n",
       "1        955     84.06  \n",
       "2        916     87.67  \n",
       "3        915     86.15  \n",
       "4        860     89.91  "
      ]
     },
     "execution_count": 220,
     "metadata": {},
     "output_type": "execute_result"
    }
   ],
   "source": [
    "df.head()"
   ]
  },
  {
   "cell_type": "code",
   "execution_count": 221,
   "id": "b98b2eb9",
   "metadata": {},
   "outputs": [
    {
     "data": {
      "text/html": [
       "<div>\n",
       "<style scoped>\n",
       "    .dataframe tbody tr th:only-of-type {\n",
       "        vertical-align: middle;\n",
       "    }\n",
       "\n",
       "    .dataframe tbody tr th {\n",
       "        vertical-align: top;\n",
       "    }\n",
       "\n",
       "    .dataframe thead th {\n",
       "        text-align: right;\n",
       "    }\n",
       "</style>\n",
       "<table border=\"1\" class=\"dataframe\">\n",
       "  <thead>\n",
       "    <tr style=\"text-align: right;\">\n",
       "      <th></th>\n",
       "      <th>Ranking</th>\n",
       "      <th>Sex-Ratio</th>\n",
       "      <th>Literacy</th>\n",
       "    </tr>\n",
       "  </thead>\n",
       "  <tbody>\n",
       "    <tr>\n",
       "      <th>count</th>\n",
       "      <td>610.000000</td>\n",
       "      <td>610.000000</td>\n",
       "      <td>610.000000</td>\n",
       "    </tr>\n",
       "    <tr>\n",
       "      <th>mean</th>\n",
       "      <td>329.598361</td>\n",
       "      <td>944.914754</td>\n",
       "      <td>72.344344</td>\n",
       "    </tr>\n",
       "    <tr>\n",
       "      <th>std</th>\n",
       "      <td>184.656903</td>\n",
       "      <td>61.247694</td>\n",
       "      <td>10.540881</td>\n",
       "    </tr>\n",
       "    <tr>\n",
       "      <th>min</th>\n",
       "      <td>1.000000</td>\n",
       "      <td>534.000000</td>\n",
       "      <td>36.100000</td>\n",
       "    </tr>\n",
       "    <tr>\n",
       "      <th>25%</th>\n",
       "      <td>183.250000</td>\n",
       "      <td>905.000000</td>\n",
       "      <td>65.255000</td>\n",
       "    </tr>\n",
       "    <tr>\n",
       "      <th>50%</th>\n",
       "      <td>335.500000</td>\n",
       "      <td>948.000000</td>\n",
       "      <td>72.150000</td>\n",
       "    </tr>\n",
       "    <tr>\n",
       "      <th>75%</th>\n",
       "      <td>487.750000</td>\n",
       "      <td>982.000000</td>\n",
       "      <td>79.987500</td>\n",
       "    </tr>\n",
       "    <tr>\n",
       "      <th>max</th>\n",
       "      <td>640.000000</td>\n",
       "      <td>1184.000000</td>\n",
       "      <td>97.910000</td>\n",
       "    </tr>\n",
       "  </tbody>\n",
       "</table>\n",
       "</div>"
      ],
      "text/plain": [
       "          Ranking    Sex-Ratio    Literacy\n",
       "count  610.000000   610.000000  610.000000\n",
       "mean   329.598361   944.914754   72.344344\n",
       "std    184.656903    61.247694   10.540881\n",
       "min      1.000000   534.000000   36.100000\n",
       "25%    183.250000   905.000000   65.255000\n",
       "50%    335.500000   948.000000   72.150000\n",
       "75%    487.750000   982.000000   79.987500\n",
       "max    640.000000  1184.000000   97.910000"
      ]
     },
     "execution_count": 221,
     "metadata": {},
     "output_type": "execute_result"
    }
   ],
   "source": [
    "df.describe()"
   ]
  },
  {
   "cell_type": "code",
   "execution_count": 222,
   "id": "ebfd55fa",
   "metadata": {},
   "outputs": [
    {
     "data": {
      "text/plain": [
       "Ranking       0\n",
       "District      0\n",
       "State         0\n",
       "Population    0\n",
       "Growth        0\n",
       "Sex-Ratio     0\n",
       "Literacy      0\n",
       "dtype: int64"
      ]
     },
     "execution_count": 222,
     "metadata": {},
     "output_type": "execute_result"
    }
   ],
   "source": [
    "df.isna().sum()"
   ]
  },
  {
   "cell_type": "code",
   "execution_count": 223,
   "id": "69255ad8",
   "metadata": {},
   "outputs": [
    {
     "data": {
      "text/plain": [
       "0"
      ]
     },
     "execution_count": 223,
     "metadata": {},
     "output_type": "execute_result"
    }
   ],
   "source": [
    "df.duplicated().sum()"
   ]
  },
  {
   "cell_type": "code",
   "execution_count": 224,
   "id": "d00f256b",
   "metadata": {},
   "outputs": [
    {
     "name": "stdout",
     "output_type": "stream",
     "text": [
      "<class 'pandas.core.frame.DataFrame'>\n",
      "RangeIndex: 610 entries, 0 to 609\n",
      "Data columns (total 7 columns):\n",
      " #   Column      Non-Null Count  Dtype  \n",
      "---  ------      --------------  -----  \n",
      " 0   Ranking     610 non-null    int64  \n",
      " 1   District    610 non-null    object \n",
      " 2   State       610 non-null    object \n",
      " 3   Population  610 non-null    object \n",
      " 4   Growth      610 non-null    object \n",
      " 5   Sex-Ratio   610 non-null    int64  \n",
      " 6   Literacy    610 non-null    float64\n",
      "dtypes: float64(1), int64(2), object(4)\n",
      "memory usage: 33.5+ KB\n"
     ]
    }
   ],
   "source": [
    "df.info()"
   ]
  },
  {
   "cell_type": "code",
   "execution_count": 225,
   "id": "923a8b13",
   "metadata": {},
   "outputs": [],
   "source": [
    "df['Population']=df['Population'].apply(fun)"
   ]
  },
  {
   "cell_type": "code",
   "execution_count": 226,
   "id": "9cfb4f24",
   "metadata": {},
   "outputs": [],
   "source": [
    "def fun (x):\n",
    "    new_str =x.replace(',','')\n",
    "    return new_str\n",
    "\n",
    "def funn (x):\n",
    "    new_str =x.replace('%','')\n",
    "    return new_str"
   ]
  },
  {
   "cell_type": "code",
   "execution_count": 227,
   "id": "102f8869",
   "metadata": {},
   "outputs": [],
   "source": [
    "df['Growth']=df['Growth'].apply(funn)"
   ]
  },
  {
   "cell_type": "code",
   "execution_count": 228,
   "id": "86c8c3db",
   "metadata": {},
   "outputs": [],
   "source": [
    "df['Growth']=df['Growth'].astype(float)"
   ]
  },
  {
   "cell_type": "code",
   "execution_count": 229,
   "id": "2e42fead",
   "metadata": {},
   "outputs": [
    {
     "data": {
      "text/html": [
       "<div>\n",
       "<style scoped>\n",
       "    .dataframe tbody tr th:only-of-type {\n",
       "        vertical-align: middle;\n",
       "    }\n",
       "\n",
       "    .dataframe tbody tr th {\n",
       "        vertical-align: top;\n",
       "    }\n",
       "\n",
       "    .dataframe thead th {\n",
       "        text-align: right;\n",
       "    }\n",
       "</style>\n",
       "<table border=\"1\" class=\"dataframe\">\n",
       "  <thead>\n",
       "    <tr style=\"text-align: right;\">\n",
       "      <th></th>\n",
       "      <th>Ranking</th>\n",
       "      <th>District</th>\n",
       "      <th>State</th>\n",
       "      <th>Population</th>\n",
       "      <th>Growth</th>\n",
       "      <th>Sex-Ratio</th>\n",
       "      <th>Literacy</th>\n",
       "    </tr>\n",
       "  </thead>\n",
       "  <tbody>\n",
       "    <tr>\n",
       "      <th>0</th>\n",
       "      <td>1</td>\n",
       "      <td>Thane</td>\n",
       "      <td>Maharashtra</td>\n",
       "      <td>11060148</td>\n",
       "      <td>36.01</td>\n",
       "      <td>886</td>\n",
       "      <td>84.53</td>\n",
       "    </tr>\n",
       "    <tr>\n",
       "      <th>1</th>\n",
       "      <td>2</td>\n",
       "      <td>North Twenty Four Parganas</td>\n",
       "      <td>West Bengal</td>\n",
       "      <td>10009781</td>\n",
       "      <td>12.04</td>\n",
       "      <td>955</td>\n",
       "      <td>84.06</td>\n",
       "    </tr>\n",
       "    <tr>\n",
       "      <th>2</th>\n",
       "      <td>3</td>\n",
       "      <td>Bangalore</td>\n",
       "      <td>Karnataka</td>\n",
       "      <td>9621551</td>\n",
       "      <td>47.18</td>\n",
       "      <td>916</td>\n",
       "      <td>87.67</td>\n",
       "    </tr>\n",
       "    <tr>\n",
       "      <th>3</th>\n",
       "      <td>4</td>\n",
       "      <td>Pune</td>\n",
       "      <td>Maharashtra</td>\n",
       "      <td>9429408</td>\n",
       "      <td>30.37</td>\n",
       "      <td>915</td>\n",
       "      <td>86.15</td>\n",
       "    </tr>\n",
       "    <tr>\n",
       "      <th>4</th>\n",
       "      <td>5</td>\n",
       "      <td>Mumbai Suburban</td>\n",
       "      <td>Maharashtra</td>\n",
       "      <td>9356962</td>\n",
       "      <td>8.29</td>\n",
       "      <td>860</td>\n",
       "      <td>89.91</td>\n",
       "    </tr>\n",
       "  </tbody>\n",
       "</table>\n",
       "</div>"
      ],
      "text/plain": [
       "   Ranking                    District        State Population  Growth  \\\n",
       "0        1                       Thane  Maharashtra   11060148   36.01   \n",
       "1        2  North Twenty Four Parganas  West Bengal   10009781   12.04   \n",
       "2        3                   Bangalore    Karnataka    9621551   47.18   \n",
       "3        4                        Pune  Maharashtra    9429408   30.37   \n",
       "4        5             Mumbai Suburban  Maharashtra    9356962    8.29   \n",
       "\n",
       "   Sex-Ratio  Literacy  \n",
       "0        886     84.53  \n",
       "1        955     84.06  \n",
       "2        916     87.67  \n",
       "3        915     86.15  \n",
       "4        860     89.91  "
      ]
     },
     "execution_count": 229,
     "metadata": {},
     "output_type": "execute_result"
    }
   ],
   "source": [
    "df.head()"
   ]
  },
  {
   "cell_type": "code",
   "execution_count": 230,
   "id": "b05f8b23",
   "metadata": {},
   "outputs": [],
   "source": [
    "df['Population']=df['Population'].astype(int)"
   ]
  },
  {
   "cell_type": "code",
   "execution_count": 231,
   "id": "21e7fb28",
   "metadata": {},
   "outputs": [
    {
     "name": "stdout",
     "output_type": "stream",
     "text": [
      "<class 'pandas.core.frame.DataFrame'>\n",
      "RangeIndex: 610 entries, 0 to 609\n",
      "Data columns (total 7 columns):\n",
      " #   Column      Non-Null Count  Dtype  \n",
      "---  ------      --------------  -----  \n",
      " 0   Ranking     610 non-null    int64  \n",
      " 1   District    610 non-null    object \n",
      " 2   State       610 non-null    object \n",
      " 3   Population  610 non-null    int32  \n",
      " 4   Growth      610 non-null    float64\n",
      " 5   Sex-Ratio   610 non-null    int64  \n",
      " 6   Literacy    610 non-null    float64\n",
      "dtypes: float64(2), int32(1), int64(2), object(2)\n",
      "memory usage: 31.1+ KB\n"
     ]
    }
   ],
   "source": [
    "df.info()"
   ]
  },
  {
   "cell_type": "code",
   "execution_count": 232,
   "id": "bf8c6cdb",
   "metadata": {},
   "outputs": [],
   "source": [
    "df1=df"
   ]
  },
  {
   "cell_type": "code",
   "execution_count": 233,
   "id": "7f56b2b4",
   "metadata": {},
   "outputs": [
    {
     "data": {
      "text/html": [
       "<div>\n",
       "<style scoped>\n",
       "    .dataframe tbody tr th:only-of-type {\n",
       "        vertical-align: middle;\n",
       "    }\n",
       "\n",
       "    .dataframe tbody tr th {\n",
       "        vertical-align: top;\n",
       "    }\n",
       "\n",
       "    .dataframe thead th {\n",
       "        text-align: right;\n",
       "    }\n",
       "</style>\n",
       "<table border=\"1\" class=\"dataframe\">\n",
       "  <thead>\n",
       "    <tr style=\"text-align: right;\">\n",
       "      <th></th>\n",
       "      <th>Ranking</th>\n",
       "      <th>District</th>\n",
       "      <th>State</th>\n",
       "      <th>Population</th>\n",
       "      <th>Growth</th>\n",
       "      <th>Sex-Ratio</th>\n",
       "      <th>Literacy</th>\n",
       "    </tr>\n",
       "  </thead>\n",
       "  <tbody>\n",
       "    <tr>\n",
       "      <th>0</th>\n",
       "      <td>1</td>\n",
       "      <td>Thane</td>\n",
       "      <td>Maharashtra</td>\n",
       "      <td>11060148</td>\n",
       "      <td>36.01</td>\n",
       "      <td>886</td>\n",
       "      <td>84.53</td>\n",
       "    </tr>\n",
       "    <tr>\n",
       "      <th>1</th>\n",
       "      <td>2</td>\n",
       "      <td>North Twenty Four Parganas</td>\n",
       "      <td>West Bengal</td>\n",
       "      <td>10009781</td>\n",
       "      <td>12.04</td>\n",
       "      <td>955</td>\n",
       "      <td>84.06</td>\n",
       "    </tr>\n",
       "    <tr>\n",
       "      <th>2</th>\n",
       "      <td>3</td>\n",
       "      <td>Bangalore</td>\n",
       "      <td>Karnataka</td>\n",
       "      <td>9621551</td>\n",
       "      <td>47.18</td>\n",
       "      <td>916</td>\n",
       "      <td>87.67</td>\n",
       "    </tr>\n",
       "    <tr>\n",
       "      <th>3</th>\n",
       "      <td>4</td>\n",
       "      <td>Pune</td>\n",
       "      <td>Maharashtra</td>\n",
       "      <td>9429408</td>\n",
       "      <td>30.37</td>\n",
       "      <td>915</td>\n",
       "      <td>86.15</td>\n",
       "    </tr>\n",
       "    <tr>\n",
       "      <th>4</th>\n",
       "      <td>5</td>\n",
       "      <td>Mumbai Suburban</td>\n",
       "      <td>Maharashtra</td>\n",
       "      <td>9356962</td>\n",
       "      <td>8.29</td>\n",
       "      <td>860</td>\n",
       "      <td>89.91</td>\n",
       "    </tr>\n",
       "  </tbody>\n",
       "</table>\n",
       "</div>"
      ],
      "text/plain": [
       "   Ranking                    District        State  Population  Growth  \\\n",
       "0        1                       Thane  Maharashtra    11060148   36.01   \n",
       "1        2  North Twenty Four Parganas  West Bengal    10009781   12.04   \n",
       "2        3                   Bangalore    Karnataka     9621551   47.18   \n",
       "3        4                        Pune  Maharashtra     9429408   30.37   \n",
       "4        5             Mumbai Suburban  Maharashtra     9356962    8.29   \n",
       "\n",
       "   Sex-Ratio  Literacy  \n",
       "0        886     84.53  \n",
       "1        955     84.06  \n",
       "2        916     87.67  \n",
       "3        915     86.15  \n",
       "4        860     89.91  "
      ]
     },
     "execution_count": 233,
     "metadata": {},
     "output_type": "execute_result"
    }
   ],
   "source": [
    "df1.head()"
   ]
  },
  {
   "cell_type": "code",
   "execution_count": 234,
   "id": "b9301dfb",
   "metadata": {},
   "outputs": [
    {
     "name": "stdout",
     "output_type": "stream",
     "text": [
      "<class 'pandas.core.frame.DataFrame'>\n",
      "RangeIndex: 610 entries, 0 to 609\n",
      "Data columns (total 7 columns):\n",
      " #   Column      Non-Null Count  Dtype  \n",
      "---  ------      --------------  -----  \n",
      " 0   Ranking     610 non-null    int64  \n",
      " 1   District    610 non-null    object \n",
      " 2   State       610 non-null    object \n",
      " 3   Population  610 non-null    int32  \n",
      " 4   Growth      610 non-null    float64\n",
      " 5   Sex-Ratio   610 non-null    int64  \n",
      " 6   Literacy    610 non-null    float64\n",
      "dtypes: float64(2), int32(1), int64(2), object(2)\n",
      "memory usage: 31.1+ KB\n"
     ]
    }
   ],
   "source": [
    "df1.info()"
   ]
  },
  {
   "cell_type": "code",
   "execution_count": 235,
   "id": "23f3b34b",
   "metadata": {},
   "outputs": [
    {
     "data": {
      "text/html": [
       "<div>\n",
       "<style scoped>\n",
       "    .dataframe tbody tr th:only-of-type {\n",
       "        vertical-align: middle;\n",
       "    }\n",
       "\n",
       "    .dataframe tbody tr th {\n",
       "        vertical-align: top;\n",
       "    }\n",
       "\n",
       "    .dataframe thead th {\n",
       "        text-align: right;\n",
       "    }\n",
       "</style>\n",
       "<table border=\"1\" class=\"dataframe\">\n",
       "  <thead>\n",
       "    <tr style=\"text-align: right;\">\n",
       "      <th></th>\n",
       "      <th>Ranking</th>\n",
       "      <th>Population</th>\n",
       "      <th>Growth</th>\n",
       "      <th>Sex-Ratio</th>\n",
       "      <th>Literacy</th>\n",
       "    </tr>\n",
       "  </thead>\n",
       "  <tbody>\n",
       "    <tr>\n",
       "      <th>count</th>\n",
       "      <td>610.000000</td>\n",
       "      <td>6.100000e+02</td>\n",
       "      <td>610.000000</td>\n",
       "      <td>610.000000</td>\n",
       "      <td>610.000000</td>\n",
       "    </tr>\n",
       "    <tr>\n",
       "      <th>mean</th>\n",
       "      <td>329.598361</td>\n",
       "      <td>1.845019e+06</td>\n",
       "      <td>19.439852</td>\n",
       "      <td>944.914754</td>\n",
       "      <td>72.344344</td>\n",
       "    </tr>\n",
       "    <tr>\n",
       "      <th>std</th>\n",
       "      <td>184.656903</td>\n",
       "      <td>1.566814e+06</td>\n",
       "      <td>14.996064</td>\n",
       "      <td>61.247694</td>\n",
       "      <td>10.540881</td>\n",
       "    </tr>\n",
       "    <tr>\n",
       "      <th>min</th>\n",
       "      <td>1.000000</td>\n",
       "      <td>8.004000e+03</td>\n",
       "      <td>-21.570000</td>\n",
       "      <td>534.000000</td>\n",
       "      <td>36.100000</td>\n",
       "    </tr>\n",
       "    <tr>\n",
       "      <th>25%</th>\n",
       "      <td>183.250000</td>\n",
       "      <td>7.754178e+05</td>\n",
       "      <td>12.357500</td>\n",
       "      <td>905.000000</td>\n",
       "      <td>65.255000</td>\n",
       "    </tr>\n",
       "    <tr>\n",
       "      <th>50%</th>\n",
       "      <td>335.500000</td>\n",
       "      <td>1.498161e+06</td>\n",
       "      <td>17.325000</td>\n",
       "      <td>948.000000</td>\n",
       "      <td>72.150000</td>\n",
       "    </tr>\n",
       "    <tr>\n",
       "      <th>75%</th>\n",
       "      <td>487.750000</td>\n",
       "      <td>2.423572e+06</td>\n",
       "      <td>23.190000</td>\n",
       "      <td>982.000000</td>\n",
       "      <td>79.987500</td>\n",
       "    </tr>\n",
       "    <tr>\n",
       "      <th>max</th>\n",
       "      <td>640.000000</td>\n",
       "      <td>1.106015e+07</td>\n",
       "      <td>131.810000</td>\n",
       "      <td>1184.000000</td>\n",
       "      <td>97.910000</td>\n",
       "    </tr>\n",
       "  </tbody>\n",
       "</table>\n",
       "</div>"
      ],
      "text/plain": [
       "          Ranking    Population      Growth    Sex-Ratio    Literacy\n",
       "count  610.000000  6.100000e+02  610.000000   610.000000  610.000000\n",
       "mean   329.598361  1.845019e+06   19.439852   944.914754   72.344344\n",
       "std    184.656903  1.566814e+06   14.996064    61.247694   10.540881\n",
       "min      1.000000  8.004000e+03  -21.570000   534.000000   36.100000\n",
       "25%    183.250000  7.754178e+05   12.357500   905.000000   65.255000\n",
       "50%    335.500000  1.498161e+06   17.325000   948.000000   72.150000\n",
       "75%    487.750000  2.423572e+06   23.190000   982.000000   79.987500\n",
       "max    640.000000  1.106015e+07  131.810000  1184.000000   97.910000"
      ]
     },
     "execution_count": 235,
     "metadata": {},
     "output_type": "execute_result"
    }
   ],
   "source": [
    "df1.describe()"
   ]
  },
  {
   "cell_type": "markdown",
   "id": "ce67e932",
   "metadata": {},
   "source": [
    "### bivariate analysis"
   ]
  },
  {
   "cell_type": "code",
   "execution_count": 236,
   "id": "33232141",
   "metadata": {},
   "outputs": [],
   "source": [
    "#district - populaltion\n",
    "#district - growth\n",
    "#district - literacy\n",
    "#district - sex ratio\n",
    "\n",
    "#state - population\n",
    "#state - growth\n",
    "#state - literacy\n",
    "#state - sex ratio\n",
    "\n",
    "#population- growth\n",
    "#population - literacy\n",
    "#population - sex ratio\n",
    "\n",
    "#growth - literacy\n",
    "#growth - sex ratio\n",
    "\n",
    "#literacy - sex ratio"
   ]
  },
  {
   "cell_type": "code",
   "execution_count": 237,
   "id": "a780218d",
   "metadata": {
    "scrolled": true
   },
   "outputs": [
    {
     "data": {
      "text/html": [
       "<div>\n",
       "<style scoped>\n",
       "    .dataframe tbody tr th:only-of-type {\n",
       "        vertical-align: middle;\n",
       "    }\n",
       "\n",
       "    .dataframe tbody tr th {\n",
       "        vertical-align: top;\n",
       "    }\n",
       "\n",
       "    .dataframe thead th {\n",
       "        text-align: right;\n",
       "    }\n",
       "</style>\n",
       "<table border=\"1\" class=\"dataframe\">\n",
       "  <thead>\n",
       "    <tr style=\"text-align: right;\">\n",
       "      <th></th>\n",
       "      <th>Ranking</th>\n",
       "      <th>District</th>\n",
       "      <th>State</th>\n",
       "      <th>Population</th>\n",
       "      <th>Growth</th>\n",
       "      <th>Sex-Ratio</th>\n",
       "      <th>Literacy</th>\n",
       "    </tr>\n",
       "  </thead>\n",
       "  <tbody>\n",
       "    <tr>\n",
       "      <th>0</th>\n",
       "      <td>1</td>\n",
       "      <td>Thane</td>\n",
       "      <td>Maharashtra</td>\n",
       "      <td>11060148</td>\n",
       "      <td>36.01</td>\n",
       "      <td>886</td>\n",
       "      <td>84.53</td>\n",
       "    </tr>\n",
       "    <tr>\n",
       "      <th>1</th>\n",
       "      <td>2</td>\n",
       "      <td>North Twenty Four Parganas</td>\n",
       "      <td>West Bengal</td>\n",
       "      <td>10009781</td>\n",
       "      <td>12.04</td>\n",
       "      <td>955</td>\n",
       "      <td>84.06</td>\n",
       "    </tr>\n",
       "    <tr>\n",
       "      <th>2</th>\n",
       "      <td>3</td>\n",
       "      <td>Bangalore</td>\n",
       "      <td>Karnataka</td>\n",
       "      <td>9621551</td>\n",
       "      <td>47.18</td>\n",
       "      <td>916</td>\n",
       "      <td>87.67</td>\n",
       "    </tr>\n",
       "    <tr>\n",
       "      <th>3</th>\n",
       "      <td>4</td>\n",
       "      <td>Pune</td>\n",
       "      <td>Maharashtra</td>\n",
       "      <td>9429408</td>\n",
       "      <td>30.37</td>\n",
       "      <td>915</td>\n",
       "      <td>86.15</td>\n",
       "    </tr>\n",
       "    <tr>\n",
       "      <th>4</th>\n",
       "      <td>5</td>\n",
       "      <td>Mumbai Suburban</td>\n",
       "      <td>Maharashtra</td>\n",
       "      <td>9356962</td>\n",
       "      <td>8.29</td>\n",
       "      <td>860</td>\n",
       "      <td>89.91</td>\n",
       "    </tr>\n",
       "    <tr>\n",
       "      <th>5</th>\n",
       "      <td>6</td>\n",
       "      <td>South Twenty Four Parganas</td>\n",
       "      <td>West Bengal</td>\n",
       "      <td>8161961</td>\n",
       "      <td>18.17</td>\n",
       "      <td>956</td>\n",
       "      <td>77.51</td>\n",
       "    </tr>\n",
       "    <tr>\n",
       "      <th>6</th>\n",
       "      <td>7</td>\n",
       "      <td>Barddhaman</td>\n",
       "      <td>West Bengal</td>\n",
       "      <td>7717563</td>\n",
       "      <td>11.92</td>\n",
       "      <td>945</td>\n",
       "      <td>76.21</td>\n",
       "    </tr>\n",
       "    <tr>\n",
       "      <th>7</th>\n",
       "      <td>8</td>\n",
       "      <td>Ahmadabad</td>\n",
       "      <td>Gujarat</td>\n",
       "      <td>7214225</td>\n",
       "      <td>24.03</td>\n",
       "      <td>904</td>\n",
       "      <td>85.31</td>\n",
       "    </tr>\n",
       "    <tr>\n",
       "      <th>8</th>\n",
       "      <td>9</td>\n",
       "      <td>Murshidabad</td>\n",
       "      <td>West Bengal</td>\n",
       "      <td>7103807</td>\n",
       "      <td>21.09</td>\n",
       "      <td>958</td>\n",
       "      <td>66.59</td>\n",
       "    </tr>\n",
       "    <tr>\n",
       "      <th>9</th>\n",
       "      <td>10</td>\n",
       "      <td>Jaipur</td>\n",
       "      <td>Rajasthan</td>\n",
       "      <td>6626178</td>\n",
       "      <td>26.19</td>\n",
       "      <td>910</td>\n",
       "      <td>75.51</td>\n",
       "    </tr>\n",
       "  </tbody>\n",
       "</table>\n",
       "</div>"
      ],
      "text/plain": [
       "   Ranking                    District        State  Population  Growth  \\\n",
       "0        1                       Thane  Maharashtra    11060148   36.01   \n",
       "1        2  North Twenty Four Parganas  West Bengal    10009781   12.04   \n",
       "2        3                   Bangalore    Karnataka     9621551   47.18   \n",
       "3        4                        Pune  Maharashtra     9429408   30.37   \n",
       "4        5             Mumbai Suburban  Maharashtra     9356962    8.29   \n",
       "5        6  South Twenty Four Parganas  West Bengal     8161961   18.17   \n",
       "6        7                  Barddhaman  West Bengal     7717563   11.92   \n",
       "7        8                   Ahmadabad      Gujarat     7214225   24.03   \n",
       "8        9                 Murshidabad  West Bengal     7103807   21.09   \n",
       "9       10                      Jaipur    Rajasthan     6626178   26.19   \n",
       "\n",
       "   Sex-Ratio  Literacy  \n",
       "0        886     84.53  \n",
       "1        955     84.06  \n",
       "2        916     87.67  \n",
       "3        915     86.15  \n",
       "4        860     89.91  \n",
       "5        956     77.51  \n",
       "6        945     76.21  \n",
       "7        904     85.31  \n",
       "8        958     66.59  \n",
       "9        910     75.51  "
      ]
     },
     "execution_count": 237,
     "metadata": {},
     "output_type": "execute_result"
    }
   ],
   "source": [
    "#district - populaltion\n",
    "df_dis_pop = df1.sort_values(by =['Population'],ascending = False).iloc[:10,:]\n",
    "df_dis_pop"
   ]
  },
  {
   "cell_type": "code",
   "execution_count": 238,
   "id": "88c326c5",
   "metadata": {},
   "outputs": [
    {
     "data": {
      "image/png": "[encoded data removed]",
      "text/plain": [
       "<Figure size 1500x800 with 1 Axes>"
      ]
     },
     "metadata": {},
     "output_type": "display_data"
    }
   ],
   "source": [
    "plt.figure(figsize=(15,8))\n",
    "sns.barplot(x=df_dis_pop['District'],y=df_dis_pop['Population'])\n",
    "plt.show()"
   ]
  },
  {
   "cell_type": "code",
   "execution_count": 239,
   "id": "31882e4a",
   "metadata": {},
   "outputs": [
    {
     "data": {
      "text/plain": [
       "State\n",
       "Uttar Pradesh     194121100\n",
       "Maharashtra       100887656\n",
       "Bihar              89751364\n",
       "West Bengal        82519780\n",
       "Madhya Pradesh     72626809\n",
       "Tamil Nadu         69424740\n",
       "Rajasthan          68548437\n",
       "Andhra Pradesh     67459740\n",
       "Karnataka          55415190\n",
       "Gujarat            54816245\n",
       "Name: Population, dtype: int32"
      ]
     },
     "execution_count": 239,
     "metadata": {},
     "output_type": "execute_result"
    }
   ],
   "source": [
    "df_st_pop=df1.groupby('State')['Population'].sum().sort_values(ascending=False).iloc[:10]\n",
    "df_st_pop"
   ]
  },
  {
   "cell_type": "code",
   "execution_count": 240,
   "id": "67edc690",
   "metadata": {},
   "outputs": [
    {
     "data": {
      "text/html": [
       "<div>\n",
       "<style scoped>\n",
       "    .dataframe tbody tr th:only-of-type {\n",
       "        vertical-align: middle;\n",
       "    }\n",
       "\n",
       "    .dataframe tbody tr th {\n",
       "        vertical-align: top;\n",
       "    }\n",
       "\n",
       "    .dataframe thead th {\n",
       "        text-align: right;\n",
       "    }\n",
       "</style>\n",
       "<table border=\"1\" class=\"dataframe\">\n",
       "  <thead>\n",
       "    <tr style=\"text-align: right;\">\n",
       "      <th></th>\n",
       "      <th>Ranking</th>\n",
       "      <th>District</th>\n",
       "      <th>State</th>\n",
       "      <th>Population</th>\n",
       "      <th>Growth</th>\n",
       "      <th>Sex-Ratio</th>\n",
       "      <th>Literacy</th>\n",
       "    </tr>\n",
       "  </thead>\n",
       "  <tbody>\n",
       "    <tr>\n",
       "      <th>545</th>\n",
       "      <td>576</td>\n",
       "      <td>Kohima</td>\n",
       "      <td>Nagaland</td>\n",
       "      <td>267988</td>\n",
       "      <td>131.81</td>\n",
       "      <td>928</td>\n",
       "      <td>85.23</td>\n",
       "    </tr>\n",
       "    <tr>\n",
       "      <th>533</th>\n",
       "      <td>564</td>\n",
       "      <td>Dimapur</td>\n",
       "      <td>Nagaland</td>\n",
       "      <td>378811</td>\n",
       "      <td>127.29</td>\n",
       "      <td>919</td>\n",
       "      <td>84.79</td>\n",
       "    </tr>\n",
       "    <tr>\n",
       "      <th>586</th>\n",
       "      <td>617</td>\n",
       "      <td>Kurung Kumey</td>\n",
       "      <td>Arunachal Pradesh</td>\n",
       "      <td>92076</td>\n",
       "      <td>116.56</td>\n",
       "      <td>1032</td>\n",
       "      <td>48.75</td>\n",
       "    </tr>\n",
       "    <tr>\n",
       "      <th>565</th>\n",
       "      <td>596</td>\n",
       "      <td>Phek</td>\n",
       "      <td>Nagaland</td>\n",
       "      <td>163418</td>\n",
       "      <td>111.84</td>\n",
       "      <td>951</td>\n",
       "      <td>78.05</td>\n",
       "    </tr>\n",
       "    <tr>\n",
       "      <th>585</th>\n",
       "      <td>616</td>\n",
       "      <td>Peren</td>\n",
       "      <td>Nagaland</td>\n",
       "      <td>95219</td>\n",
       "      <td>104.15</td>\n",
       "      <td>915</td>\n",
       "      <td>77.95</td>\n",
       "    </tr>\n",
       "    <tr>\n",
       "      <th>564</th>\n",
       "      <td>595</td>\n",
       "      <td>Wokha</td>\n",
       "      <td>Nagaland</td>\n",
       "      <td>166343</td>\n",
       "      <td>98.81</td>\n",
       "      <td>968</td>\n",
       "      <td>87.69</td>\n",
       "    </tr>\n",
       "    <tr>\n",
       "      <th>559</th>\n",
       "      <td>590</td>\n",
       "      <td>Tuensang</td>\n",
       "      <td>Nagaland</td>\n",
       "      <td>196596</td>\n",
       "      <td>94.83</td>\n",
       "      <td>929</td>\n",
       "      <td>73.08</td>\n",
       "    </tr>\n",
       "    <tr>\n",
       "      <th>551</th>\n",
       "      <td>582</td>\n",
       "      <td>Mon</td>\n",
       "      <td>Nagaland</td>\n",
       "      <td>250260</td>\n",
       "      <td>80.36</td>\n",
       "      <td>899</td>\n",
       "      <td>56.99</td>\n",
       "    </tr>\n",
       "    <tr>\n",
       "      <th>574</th>\n",
       "      <td>605</td>\n",
       "      <td>Zunheboto</td>\n",
       "      <td>Nagaland</td>\n",
       "      <td>140757</td>\n",
       "      <td>78.05</td>\n",
       "      <td>976</td>\n",
       "      <td>85.26</td>\n",
       "    </tr>\n",
       "    <tr>\n",
       "      <th>598</th>\n",
       "      <td>629</td>\n",
       "      <td>Yanam</td>\n",
       "      <td>Puducherry</td>\n",
       "      <td>55626</td>\n",
       "      <td>77.19</td>\n",
       "      <td>1038</td>\n",
       "      <td>79.47</td>\n",
       "    </tr>\n",
       "  </tbody>\n",
       "</table>\n",
       "</div>"
      ],
      "text/plain": [
       "     Ranking      District              State  Population  Growth  Sex-Ratio  \\\n",
       "545      576        Kohima           Nagaland      267988  131.81        928   \n",
       "533      564       Dimapur           Nagaland      378811  127.29        919   \n",
       "586      617  Kurung Kumey  Arunachal Pradesh       92076  116.56       1032   \n",
       "565      596          Phek           Nagaland      163418  111.84        951   \n",
       "585      616         Peren           Nagaland       95219  104.15        915   \n",
       "564      595         Wokha           Nagaland      166343   98.81        968   \n",
       "559      590      Tuensang           Nagaland      196596   94.83        929   \n",
       "551      582           Mon           Nagaland      250260   80.36        899   \n",
       "574      605     Zunheboto           Nagaland      140757   78.05        976   \n",
       "598      629         Yanam         Puducherry       55626   77.19       1038   \n",
       "\n",
       "     Literacy  \n",
       "545     85.23  \n",
       "533     84.79  \n",
       "586     48.75  \n",
       "565     78.05  \n",
       "585     77.95  \n",
       "564     87.69  \n",
       "559     73.08  \n",
       "551     56.99  \n",
       "574     85.26  \n",
       "598     79.47  "
      ]
     },
     "execution_count": 240,
     "metadata": {},
     "output_type": "execute_result"
    }
   ],
   "source": [
    "##district - growth\n",
    "df_dis_growth = df1.sort_values(by =['Growth'],ascending = False).iloc[:10,:]\n",
    "df_dis_growth"
   ]
  },
  {
   "cell_type": "code",
   "execution_count": 241,
   "id": "75e6f4ba",
   "metadata": {},
   "outputs": [
    {
     "data": {
      "image/png": "[encoded data removed]",
      "text/plain": [
       "<Figure size 1500x800 with 1 Axes>"
      ]
     },
     "metadata": {},
     "output_type": "display_data"
    }
   ],
   "source": [
    "plt.figure(figsize=(15,8))\n",
    "sns.barplot(x=df_dis_growth['District'],y=df_dis_growth['Growth'])\n",
    "plt.show()"
   ]
  },
  {
   "cell_type": "code",
   "execution_count": 242,
   "id": "d6dee92c",
   "metadata": {},
   "outputs": [
    {
     "data": {
      "text/html": [
       "<div>\n",
       "<style scoped>\n",
       "    .dataframe tbody tr th:only-of-type {\n",
       "        vertical-align: middle;\n",
       "    }\n",
       "\n",
       "    .dataframe tbody tr th {\n",
       "        vertical-align: top;\n",
       "    }\n",
       "\n",
       "    .dataframe thead th {\n",
       "        text-align: right;\n",
       "    }\n",
       "</style>\n",
       "<table border=\"1\" class=\"dataframe\">\n",
       "  <thead>\n",
       "    <tr style=\"text-align: right;\">\n",
       "      <th></th>\n",
       "      <th>Ranking</th>\n",
       "      <th>District</th>\n",
       "      <th>State</th>\n",
       "      <th>Population</th>\n",
       "      <th>Growth</th>\n",
       "      <th>Sex-Ratio</th>\n",
       "      <th>Literacy</th>\n",
       "    </tr>\n",
       "  </thead>\n",
       "  <tbody>\n",
       "    <tr>\n",
       "      <th>595</th>\n",
       "      <td>626</td>\n",
       "      <td>Serchhip</td>\n",
       "      <td>Mizoram</td>\n",
       "      <td>64937</td>\n",
       "      <td>20.56</td>\n",
       "      <td>977</td>\n",
       "      <td>97.91</td>\n",
       "    </tr>\n",
       "    <tr>\n",
       "      <th>527</th>\n",
       "      <td>558</td>\n",
       "      <td>Aizawl</td>\n",
       "      <td>Mizoram</td>\n",
       "      <td>400309</td>\n",
       "      <td>22.92</td>\n",
       "      <td>1009</td>\n",
       "      <td>97.89</td>\n",
       "    </tr>\n",
       "    <tr>\n",
       "      <th>604</th>\n",
       "      <td>635</td>\n",
       "      <td>Mahe</td>\n",
       "      <td>Puducherry</td>\n",
       "      <td>41816</td>\n",
       "      <td>13.54</td>\n",
       "      <td>1184</td>\n",
       "      <td>97.87</td>\n",
       "    </tr>\n",
       "    <tr>\n",
       "      <th>203</th>\n",
       "      <td>234</td>\n",
       "      <td>Kottayam</td>\n",
       "      <td>Kerala</td>\n",
       "      <td>1974551</td>\n",
       "      <td>1.07</td>\n",
       "      <td>1039</td>\n",
       "      <td>97.21</td>\n",
       "    </tr>\n",
       "    <tr>\n",
       "      <th>367</th>\n",
       "      <td>398</td>\n",
       "      <td>Pathanamthitta</td>\n",
       "      <td>Kerala</td>\n",
       "      <td>1197412</td>\n",
       "      <td>-2.97</td>\n",
       "      <td>1132</td>\n",
       "      <td>96.55</td>\n",
       "    </tr>\n",
       "    <tr>\n",
       "      <th>579</th>\n",
       "      <td>610</td>\n",
       "      <td>Champhai</td>\n",
       "      <td>Mizoram</td>\n",
       "      <td>125745</td>\n",
       "      <td>16.01</td>\n",
       "      <td>984</td>\n",
       "      <td>95.91</td>\n",
       "    </tr>\n",
       "    <tr>\n",
       "      <th>103</th>\n",
       "      <td>104</td>\n",
       "      <td>Ernakulam</td>\n",
       "      <td>Kerala</td>\n",
       "      <td>3282388</td>\n",
       "      <td>5.69</td>\n",
       "      <td>1027</td>\n",
       "      <td>95.89</td>\n",
       "    </tr>\n",
       "    <tr>\n",
       "      <th>184</th>\n",
       "      <td>215</td>\n",
       "      <td>Alappuzha</td>\n",
       "      <td>Kerala</td>\n",
       "      <td>2127789</td>\n",
       "      <td>0.88</td>\n",
       "      <td>1100</td>\n",
       "      <td>95.72</td>\n",
       "    </tr>\n",
       "    <tr>\n",
       "      <th>139</th>\n",
       "      <td>170</td>\n",
       "      <td>Kannur</td>\n",
       "      <td>Kerala</td>\n",
       "      <td>2523003</td>\n",
       "      <td>4.73</td>\n",
       "      <td>1136</td>\n",
       "      <td>95.10</td>\n",
       "    </tr>\n",
       "    <tr>\n",
       "      <th>113</th>\n",
       "      <td>114</td>\n",
       "      <td>Kozhikode</td>\n",
       "      <td>Kerala</td>\n",
       "      <td>3086293</td>\n",
       "      <td>7.20</td>\n",
       "      <td>1098</td>\n",
       "      <td>95.08</td>\n",
       "    </tr>\n",
       "  </tbody>\n",
       "</table>\n",
       "</div>"
      ],
      "text/plain": [
       "     Ranking        District       State  Population  Growth  Sex-Ratio  \\\n",
       "595      626        Serchhip     Mizoram       64937   20.56        977   \n",
       "527      558          Aizawl     Mizoram      400309   22.92       1009   \n",
       "604      635            Mahe  Puducherry       41816   13.54       1184   \n",
       "203      234        Kottayam      Kerala     1974551    1.07       1039   \n",
       "367      398  Pathanamthitta      Kerala     1197412   -2.97       1132   \n",
       "579      610        Champhai     Mizoram      125745   16.01        984   \n",
       "103      104       Ernakulam      Kerala     3282388    5.69       1027   \n",
       "184      215       Alappuzha      Kerala     2127789    0.88       1100   \n",
       "139      170          Kannur      Kerala     2523003    4.73       1136   \n",
       "113      114       Kozhikode      Kerala     3086293    7.20       1098   \n",
       "\n",
       "     Literacy  \n",
       "595     97.91  \n",
       "527     97.89  \n",
       "604     97.87  \n",
       "203     97.21  \n",
       "367     96.55  \n",
       "579     95.91  \n",
       "103     95.89  \n",
       "184     95.72  \n",
       "139     95.10  \n",
       "113     95.08  "
      ]
     },
     "execution_count": 242,
     "metadata": {},
     "output_type": "execute_result"
    }
   ],
   "source": [
    "#district - literacy\n",
    "df_dis_lit = df1.sort_values(by =['Literacy'],ascending = False).iloc[:10,:]\n",
    "df_dis_lit "
   ]
  },
  {
   "cell_type": "code",
   "execution_count": 243,
   "id": "9e842049",
   "metadata": {},
   "outputs": [
    {
     "data": {
      "image/png": "[encoded data removed]",
      "text/plain": [
       "<Figure size 1500x800 with 1 Axes>"
      ]
     },
     "metadata": {},
     "output_type": "display_data"
    }
   ],
   "source": [
    "plt.figure(figsize=(15,8))\n",
    "sns.barplot(x=df_dis_lit ['District'],y=df_dis_lit ['Literacy'])\n",
    "plt.show()"
   ]
  },
  {
   "cell_type": "code",
   "execution_count": 244,
   "id": "4ab5878b",
   "metadata": {},
   "outputs": [
    {
     "data": {
      "text/html": [
       "<div>\n",
       "<style scoped>\n",
       "    .dataframe tbody tr th:only-of-type {\n",
       "        vertical-align: middle;\n",
       "    }\n",
       "\n",
       "    .dataframe tbody tr th {\n",
       "        vertical-align: top;\n",
       "    }\n",
       "\n",
       "    .dataframe thead th {\n",
       "        text-align: right;\n",
       "    }\n",
       "</style>\n",
       "<table border=\"1\" class=\"dataframe\">\n",
       "  <thead>\n",
       "    <tr style=\"text-align: right;\">\n",
       "      <th></th>\n",
       "      <th>Ranking</th>\n",
       "      <th>District</th>\n",
       "      <th>State</th>\n",
       "      <th>Population</th>\n",
       "      <th>Growth</th>\n",
       "      <th>Sex-Ratio</th>\n",
       "      <th>Literacy</th>\n",
       "    </tr>\n",
       "  </thead>\n",
       "  <tbody>\n",
       "    <tr>\n",
       "      <th>604</th>\n",
       "      <td>635</td>\n",
       "      <td>Mahe</td>\n",
       "      <td>Puducherry</td>\n",
       "      <td>41816</td>\n",
       "      <td>13.54</td>\n",
       "      <td>1184</td>\n",
       "      <td>97.87</td>\n",
       "    </tr>\n",
       "    <tr>\n",
       "      <th>486</th>\n",
       "      <td>517</td>\n",
       "      <td>Almora</td>\n",
       "      <td>Uttarakhand</td>\n",
       "      <td>622506</td>\n",
       "      <td>-1.28</td>\n",
       "      <td>1139</td>\n",
       "      <td>80.47</td>\n",
       "    </tr>\n",
       "    <tr>\n",
       "      <th>139</th>\n",
       "      <td>170</td>\n",
       "      <td>Kannur</td>\n",
       "      <td>Kerala</td>\n",
       "      <td>2523003</td>\n",
       "      <td>4.73</td>\n",
       "      <td>1136</td>\n",
       "      <td>95.10</td>\n",
       "    </tr>\n",
       "    <tr>\n",
       "      <th>367</th>\n",
       "      <td>398</td>\n",
       "      <td>Pathanamthitta</td>\n",
       "      <td>Kerala</td>\n",
       "      <td>1197412</td>\n",
       "      <td>-2.97</td>\n",
       "      <td>1132</td>\n",
       "      <td>96.55</td>\n",
       "    </tr>\n",
       "    <tr>\n",
       "      <th>280</th>\n",
       "      <td>311</td>\n",
       "      <td>Ratnagiri</td>\n",
       "      <td>Maharashtra</td>\n",
       "      <td>1615069</td>\n",
       "      <td>-4.82</td>\n",
       "      <td>1122</td>\n",
       "      <td>82.18</td>\n",
       "    </tr>\n",
       "    <tr>\n",
       "      <th>552</th>\n",
       "      <td>583</td>\n",
       "      <td>Rudraprayag</td>\n",
       "      <td>Uttarakhand</td>\n",
       "      <td>242285</td>\n",
       "      <td>6.53</td>\n",
       "      <td>1114</td>\n",
       "      <td>81.30</td>\n",
       "    </tr>\n",
       "    <tr>\n",
       "      <th>122</th>\n",
       "      <td>153</td>\n",
       "      <td>Kollam</td>\n",
       "      <td>Kerala</td>\n",
       "      <td>2635375</td>\n",
       "      <td>1.94</td>\n",
       "      <td>1113</td>\n",
       "      <td>94.09</td>\n",
       "    </tr>\n",
       "    <tr>\n",
       "      <th>109</th>\n",
       "      <td>110</td>\n",
       "      <td>Thrissur</td>\n",
       "      <td>Kerala</td>\n",
       "      <td>3121200</td>\n",
       "      <td>4.94</td>\n",
       "      <td>1108</td>\n",
       "      <td>95.08</td>\n",
       "    </tr>\n",
       "    <tr>\n",
       "      <th>474</th>\n",
       "      <td>505</td>\n",
       "      <td>Pauri Garhwal</td>\n",
       "      <td>Uttarakhand</td>\n",
       "      <td>687271</td>\n",
       "      <td>-1.41</td>\n",
       "      <td>1103</td>\n",
       "      <td>82.02</td>\n",
       "    </tr>\n",
       "    <tr>\n",
       "      <th>184</th>\n",
       "      <td>215</td>\n",
       "      <td>Alappuzha</td>\n",
       "      <td>Kerala</td>\n",
       "      <td>2127789</td>\n",
       "      <td>0.88</td>\n",
       "      <td>1100</td>\n",
       "      <td>95.72</td>\n",
       "    </tr>\n",
       "  </tbody>\n",
       "</table>\n",
       "</div>"
      ],
      "text/plain": [
       "     Ranking        District        State  Population  Growth  Sex-Ratio  \\\n",
       "604      635            Mahe   Puducherry       41816   13.54       1184   \n",
       "486      517          Almora  Uttarakhand      622506   -1.28       1139   \n",
       "139      170          Kannur       Kerala     2523003    4.73       1136   \n",
       "367      398  Pathanamthitta       Kerala     1197412   -2.97       1132   \n",
       "280      311       Ratnagiri  Maharashtra     1615069   -4.82       1122   \n",
       "552      583     Rudraprayag  Uttarakhand      242285    6.53       1114   \n",
       "122      153          Kollam       Kerala     2635375    1.94       1113   \n",
       "109      110        Thrissur       Kerala     3121200    4.94       1108   \n",
       "474      505   Pauri Garhwal  Uttarakhand      687271   -1.41       1103   \n",
       "184      215       Alappuzha       Kerala     2127789    0.88       1100   \n",
       "\n",
       "     Literacy  \n",
       "604     97.87  \n",
       "486     80.47  \n",
       "139     95.10  \n",
       "367     96.55  \n",
       "280     82.18  \n",
       "552     81.30  \n",
       "122     94.09  \n",
       "109     95.08  \n",
       "474     82.02  \n",
       "184     95.72  "
      ]
     },
     "execution_count": 244,
     "metadata": {},
     "output_type": "execute_result"
    }
   ],
   "source": [
    "#district - sex ratio\n",
    "df_dis_sex = df1.sort_values(by =['Sex-Ratio'],ascending = False).iloc[:10,:]\n",
    "df_dis_sex"
   ]
  },
  {
   "cell_type": "code",
   "execution_count": 245,
   "id": "3463c596",
   "metadata": {},
   "outputs": [
    {
     "data": {
      "image/png": "[encoded data removed]",
      "text/plain": [
       "<Figure size 1500x800 with 1 Axes>"
      ]
     },
     "metadata": {},
     "output_type": "display_data"
    }
   ],
   "source": [
    "plt.figure(figsize=(15,8))\n",
    "sns.barplot(x=df_dis_sex['District'],y=df_dis_sex['Sex-Ratio'])\n",
    "plt.show()"
   ]
  },
  {
   "cell_type": "code",
   "execution_count": 246,
   "id": "2699c862",
   "metadata": {},
   "outputs": [
    {
     "data": {
      "text/plain": [
       "<matplotlib.collections.PathCollection at 0x23cce1e8250>"
      ]
     },
     "execution_count": 246,
     "metadata": {},
     "output_type": "execute_result"
    },
    {
     "data": {
      "image/png": "[encoded data removed]",
      "text/plain": [
       "<Figure size 640x480 with 1 Axes>"
      ]
     },
     "metadata": {},
     "output_type": "display_data"
    }
   ],
   "source": [
    "#population- growth\n",
    "plt.scatter(x=df['Population'], y =df['Growth'])"
   ]
  },
  {
   "cell_type": "code",
   "execution_count": 247,
   "id": "5853caf3",
   "metadata": {},
   "outputs": [
    {
     "data": {
      "text/plain": [
       "<matplotlib.collections.PathCollection at 0x23cce292950>"
      ]
     },
     "execution_count": 247,
     "metadata": {},
     "output_type": "execute_result"
    },
    {
     "data": {
      "image/png": "[encoded data removed]",
      "text/plain": [
       "<Figure size 640x480 with 1 Axes>"
      ]
     },
     "metadata": {},
     "output_type": "display_data"
    }
   ],
   "source": [
    "#population - literacy\n",
    "plt.scatter(x=df['Population'],y=df['Literacy'])"
   ]
  },
  {
   "cell_type": "code",
   "execution_count": 248,
   "id": "ecc6737a",
   "metadata": {},
   "outputs": [
    {
     "data": {
      "text/plain": [
       "<matplotlib.collections.PathCollection at 0x23cceee89d0>"
      ]
     },
     "execution_count": 248,
     "metadata": {},
     "output_type": "execute_result"
    },
    {
     "data": {
      "image/png": "[encoded data removed]",
      "text/plain": [
       "<Figure size 640x480 with 1 Axes>"
      ]
     },
     "metadata": {},
     "output_type": "display_data"
    }
   ],
   "source": [
    "#population - literacy\n",
    "plt.scatter(x=df['Population'],y=df['Sex-Ratio'])"
   ]
  },
  {
   "cell_type": "code",
   "execution_count": 249,
   "id": "f43fe130",
   "metadata": {},
   "outputs": [
    {
     "data": {
      "text/plain": [
       "<matplotlib.collections.PathCollection at 0x23ccef22690>"
      ]
     },
     "execution_count": 249,
     "metadata": {},
     "output_type": "execute_result"
    },
    {
     "data": {
      "image/png": "[encoded data removed]",
      "text/plain": [
       "<Figure size 640x480 with 1 Axes>"
      ]
     },
     "metadata": {},
     "output_type": "display_data"
    }
   ],
   "source": [
    "#growth - literacy\n",
    "plt.scatter(x=df['Growth'],y=df['Literacy'])"
   ]
  },
  {
   "cell_type": "code",
   "execution_count": 250,
   "id": "8a224bca",
   "metadata": {},
   "outputs": [
    {
     "data": {
      "text/plain": [
       "<matplotlib.collections.PathCollection at 0x23cced58250>"
      ]
     },
     "execution_count": 250,
     "metadata": {},
     "output_type": "execute_result"
    },
    {
     "data": {
      "image/png": "[encoded data removed]",
      "text/plain": [
       "<Figure size 640x480 with 1 Axes>"
      ]
     },
     "metadata": {},
     "output_type": "display_data"
    }
   ],
   "source": [
    "#growth - sex ratio\n",
    "plt.scatter(x=df['Growth'],y=df['Sex-Ratio'])"
   ]
  },
  {
   "cell_type": "code",
   "execution_count": 251,
   "id": "4faa0f8c",
   "metadata": {},
   "outputs": [
    {
     "data": {
      "text/plain": [
       "<matplotlib.collections.PathCollection at 0x23ccedf8350>"
      ]
     },
     "execution_count": 251,
     "metadata": {},
     "output_type": "execute_result"
    },
    {
     "data": {
      "image/png": "[encoded data removed]",
      "text/plain": [
       "<Figure size 640x480 with 1 Axes>"
      ]
     },
     "metadata": {},
     "output_type": "display_data"
    }
   ],
   "source": [
    "#literacy - sex ratio\n",
    "plt.scatter(x=df['Literacy'],y=df['Sex-Ratio'])"
   ]
  }
 ],
 "metadata": {
  "kernelspec": {
   "display_name": "Python 3 (ipykernel)",
   "language": "python",
   "name": "python3"
  },
  "language_info": {
   "codemirror_mode": {
    "name": "ipython",
    "version": 3
   },
   "file_extension": ".py",
   "mimetype": "text/x-python",
   "name": "python",
   "nbconvert_exporter": "python",
   "pygments_lexer": "ipython3",
   "version": "3.11.3"
  }
 },
 "nbformat": 4,
 "nbformat_minor": 5
}
